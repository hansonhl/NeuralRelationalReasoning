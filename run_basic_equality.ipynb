{
 "cells": [
  {
   "cell_type": "markdown",
   "metadata": {},
   "source": [
    "# Basic equality"
   ]
  },
  {
   "cell_type": "code",
   "execution_count": 1,
   "metadata": {},
   "outputs": [],
   "source": [
    "from datasets import EqualityDataset\n",
    "from equality_experiment import EqualityExperiment, PretrainedEqualityExperiment\n",
    "import os\n",
    "from trained_datasets import TrainedEqualityDataset\n",
    "import utils"
   ]
  },
  {
   "cell_type": "code",
   "execution_count": 2,
   "metadata": {},
   "outputs": [],
   "source": [
    "utils.fix_random_seeds()"
   ]
  },
  {
   "cell_type": "code",
   "execution_count": 3,
   "metadata": {},
   "outputs": [],
   "source": [
    "debugging = False\n",
    "\n",
    "debugging_params = dict(\n",
    "    embed_dims=[50],\n",
    "    hidden_dims=[50],\n",
    "    alphas=[0.001],\n",
    "    learning_rates=[0.01],\n",
    "    n_trials=2,\n",
    "    train_sizes=list(range(104, 2005, 100))\n",
    ")\n",
    "\n",
    "experiment_params = dict(\n",
    "    embed_dims=[2, 10, 25, 50, 100],\n",
    "    hidden_dims=[2, 10, 25, 50, 100],\n",
    "    alphas=[0.00001, 0.0001, 0.001],\n",
    "    learning_rates=[0.0001, 0.001, 0.01],\n",
    "    n_trials=20,\n",
    "    train_sizes=list(range(104, 2005, 100))\n",
    ")\n",
    "\n",
    "params = debugging_params if debugging else experiment_params"
   ]
  },
  {
   "cell_type": "markdown",
   "metadata": {},
   "source": [
    "## No pretraining"
   ]
  },
  {
   "cell_type": "code",
   "execution_count": 4,
   "metadata": {},
   "outputs": [
    {
     "name": "stdout",
     "output_type": "stream",
     "text": [
      "Grid size: 225 * 20; 4500 experiments\n",
      "Running trials for embed_dim=2 hidden_dim=2 alpha=1e-05 lr=0.0001 ... mean: 0.51; max: 0.56; took 1.0 secs\n",
      "Running trials for embed_dim=2 hidden_dim=2 alpha=1e-05 lr=0.001 ... mean: 0.5; max: 0.56; took 1.0 secs\n",
      "Running trials for embed_dim=2 hidden_dim=2 alpha=1e-05 lr=0.01 ... mean: 0.53; max: 0.842; took 1.0 secs\n",
      "Running trials for embed_dim=2 hidden_dim=2 alpha=0.0001 lr=0.0001 ... mean: 0.5; max: 0.56; took 1.0 secs\n",
      "Running trials for embed_dim=2 hidden_dim=2 alpha=0.0001 lr=0.001 ... mean: 0.5; max: 0.604; took 1.0 secs\n",
      "Running trials for embed_dim=2 hidden_dim=2 alpha=0.0001 lr=0.01 ... mean: 0.52; max: 0.772; took 1.0 secs\n",
      "Running trials for embed_dim=2 hidden_dim=2 alpha=0.001 lr=0.0001 ... mean: 0.5; max: 0.532; took 1.0 secs\n",
      "Running trials for embed_dim=2 hidden_dim=2 alpha=0.001 lr=0.001 ... mean: 0.5; max: 0.534; took 1.0 secs\n",
      "Running trials for embed_dim=2 hidden_dim=2 alpha=0.001 lr=0.01 ... mean: 0.55; max: 0.814; took 1.0 secs\n",
      "Running trials for embed_dim=2 hidden_dim=10 alpha=1e-05 lr=0.0001 ... mean: 0.5; max: 0.554; took 1.0 secs\n",
      "Running trials for embed_dim=2 hidden_dim=10 alpha=1e-05 lr=0.001 ... mean: 0.51; max: 0.722; took 1.0 secs\n",
      "Running trials for embed_dim=2 hidden_dim=10 alpha=1e-05 lr=0.01 ... mean: 0.64; max: 0.94; took 1.0 secs\n",
      "Running trials for embed_dim=2 hidden_dim=10 alpha=0.0001 lr=0.0001 ... mean: 0.5; max: 0.546; took 1.0 secs\n",
      "Running trials for embed_dim=2 hidden_dim=10 alpha=0.0001 lr=0.001 ... mean: 0.51; max: 0.644; took 1.0 secs\n",
      "Running trials for embed_dim=2 hidden_dim=10 alpha=0.0001 lr=0.01 ... mean: 0.63; max: 0.924; took 1.0 secs\n",
      "Running trials for embed_dim=2 hidden_dim=10 alpha=0.001 lr=0.0001 ... mean: 0.49; max: 0.562; took 1.0 secs\n",
      "Running trials for embed_dim=2 hidden_dim=10 alpha=0.001 lr=0.001 ... mean: 0.51; max: 0.68; took 1.0 secs\n",
      "Running trials for embed_dim=2 hidden_dim=10 alpha=0.001 lr=0.01 ... mean: 0.62; max: 0.918; took 1.0 secs\n",
      "Running trials for embed_dim=2 hidden_dim=25 alpha=1e-05 lr=0.0001 ... mean: 0.5; max: 0.55; took 2.0 secs\n",
      "Running trials for embed_dim=2 hidden_dim=25 alpha=1e-05 lr=0.001 ... mean: 0.52; max: 0.732; took 2.0 secs\n",
      "Running trials for embed_dim=2 hidden_dim=25 alpha=1e-05 lr=0.01 ... mean: 0.7; max: 0.948; took 2.0 secs\n",
      "Running trials for embed_dim=2 hidden_dim=25 alpha=0.0001 lr=0.0001 ... mean: 0.5; max: 0.538; took 1.0 secs\n",
      "Running trials for embed_dim=2 hidden_dim=25 alpha=0.0001 lr=0.001 ... mean: 0.52; max: 0.75; took 1.0 secs\n",
      "Running trials for embed_dim=2 hidden_dim=25 alpha=0.0001 lr=0.01 ... mean: 0.71; max: 0.952; took 2.0 secs\n",
      "Running trials for embed_dim=2 hidden_dim=25 alpha=0.001 lr=0.0001 ... mean: 0.51; max: 0.582; took 2.0 secs\n",
      "Running trials for embed_dim=2 hidden_dim=25 alpha=0.001 lr=0.001 ... mean: 0.53; max: 0.72; took 2.0 secs\n",
      "Running trials for embed_dim=2 hidden_dim=25 alpha=0.001 lr=0.01 ... mean: 0.71; max: 0.95; took 2.0 secs\n",
      "Running trials for embed_dim=2 hidden_dim=50 alpha=1e-05 lr=0.0001 ... mean: 0.5; max: 0.612; took 2.0 secs\n",
      "Running trials for embed_dim=2 hidden_dim=50 alpha=1e-05 lr=0.001 ... mean: 0.56; max: 0.824; took 2.0 secs\n",
      "Running trials for embed_dim=2 hidden_dim=50 alpha=1e-05 lr=0.01 ... mean: 0.75; max: 0.962; took 2.0 secs\n",
      "Running trials for embed_dim=2 hidden_dim=50 alpha=0.0001 lr=0.0001 ... mean: 0.49; max: 0.564; took 2.0 secs\n",
      "Running trials for embed_dim=2 hidden_dim=50 alpha=0.0001 lr=0.001 ... mean: 0.55; max: 0.886; took 2.0 secs\n",
      "Running trials for embed_dim=2 hidden_dim=50 alpha=0.0001 lr=0.01 ... mean: 0.75; max: 0.956; took 2.0 secs\n",
      "Running trials for embed_dim=2 hidden_dim=50 alpha=0.001 lr=0.0001 ... mean: 0.5; max: 0.644; took 2.0 secs\n",
      "Running trials for embed_dim=2 hidden_dim=50 alpha=0.001 lr=0.001 ... mean: 0.56; max: 0.79; took 2.0 secs\n",
      "Running trials for embed_dim=2 hidden_dim=50 alpha=0.001 lr=0.01 ... mean: 0.75; max: 0.96; took 2.0 secs\n",
      "Running trials for embed_dim=2 hidden_dim=100 alpha=1e-05 lr=0.0001 ... mean: 0.5; max: 0.616; took 2.0 secs\n",
      "Running trials for embed_dim=2 hidden_dim=100 alpha=1e-05 lr=0.001 ... mean: 0.6; max: 0.898; took 2.0 secs\n",
      "Running trials for embed_dim=2 hidden_dim=100 alpha=1e-05 lr=0.01 ... mean: 0.78; max: 0.972; took 2.0 secs\n",
      "Running trials for embed_dim=2 hidden_dim=100 alpha=0.0001 lr=0.0001 ... mean: 0.51; max: 0.568; took 2.0 secs\n",
      "Running trials for embed_dim=2 hidden_dim=100 alpha=0.0001 lr=0.001 ... mean: 0.6; max: 0.884; took 2.0 secs\n",
      "Running trials for embed_dim=2 hidden_dim=100 alpha=0.0001 lr=0.01 ... mean: 0.79; max: 0.976; took 2.0 secs\n",
      "Running trials for embed_dim=2 hidden_dim=100 alpha=0.001 lr=0.0001 ... mean: 0.5; max: 0.558; took 2.0 secs\n",
      "Running trials for embed_dim=2 hidden_dim=100 alpha=0.001 lr=0.001 ... mean: 0.6; max: 0.886; took 2.0 secs\n",
      "Running trials for embed_dim=2 hidden_dim=100 alpha=0.001 lr=0.01 ... mean: 0.79; max: 0.968; took 2.0 secs\n",
      "Running trials for embed_dim=10 hidden_dim=2 alpha=1e-05 lr=0.0001 ... mean: 0.5; max: 0.52; took 2.0 secs\n",
      "Running trials for embed_dim=10 hidden_dim=2 alpha=1e-05 lr=0.001 ... mean: 0.5; max: 0.57; took 2.0 secs\n",
      "Running trials for embed_dim=10 hidden_dim=2 alpha=1e-05 lr=0.01 ... mean: 0.54; max: 0.76; took 2.0 secs\n",
      "Running trials for embed_dim=10 hidden_dim=2 alpha=0.0001 lr=0.0001 ... mean: 0.5; max: 0.522; took 2.0 secs\n",
      "Running trials for embed_dim=10 hidden_dim=2 alpha=0.0001 lr=0.001 ... mean: 0.5; max: 0.542; took 2.0 secs\n",
      "Running trials for embed_dim=10 hidden_dim=2 alpha=0.0001 lr=0.01 ... mean: 0.53; max: 0.772; took 2.0 secs\n",
      "Running trials for embed_dim=10 hidden_dim=2 alpha=0.001 lr=0.0001 ... mean: 0.5; max: 0.546; took 2.0 secs\n",
      "Running trials for embed_dim=10 hidden_dim=2 alpha=0.001 lr=0.001 ... mean: 0.5; max: 0.544; took 2.0 secs\n",
      "Running trials for embed_dim=10 hidden_dim=2 alpha=0.001 lr=0.01 ... mean: 0.54; max: 0.906; took 2.0 secs\n",
      "Running trials for embed_dim=10 hidden_dim=10 alpha=1e-05 lr=0.0001 ... mean: 0.5; max: 0.532; took 2.0 secs\n",
      "Running trials for embed_dim=10 hidden_dim=10 alpha=1e-05 lr=0.001 ... mean: 0.5; max: 0.56; took 2.0 secs\n",
      "Running trials for embed_dim=10 hidden_dim=10 alpha=1e-05 lr=0.01 ... mean: 0.67; max: 0.984; took 2.0 secs\n",
      "Running trials for embed_dim=10 hidden_dim=10 alpha=0.0001 lr=0.0001 ... mean: 0.5; max: 0.528; took 2.0 secs\n",
      "Running trials for embed_dim=10 hidden_dim=10 alpha=0.0001 lr=0.001 ... mean: 0.52; max: 0.618; took 2.0 secs\n",
      "Running trials for embed_dim=10 hidden_dim=10 alpha=0.0001 lr=0.01 ... mean: 0.68; max: 0.972; took 2.0 secs\n",
      "Running trials for embed_dim=10 hidden_dim=10 alpha=0.001 lr=0.0001 ... mean: 0.5; max: 0.544; took 2.0 secs\n",
      "Running trials for embed_dim=10 hidden_dim=10 alpha=0.001 lr=0.001 ... mean: 0.51; max: 0.614; took 2.0 secs\n",
      "Running trials for embed_dim=10 hidden_dim=10 alpha=0.001 lr=0.01 ... mean: 0.66; max: 0.968; took 2.0 secs\n",
      "Running trials for embed_dim=10 hidden_dim=25 alpha=1e-05 lr=0.0001 ... mean: 0.49; max: 0.54; took 2.0 secs\n",
      "Running trials for embed_dim=10 hidden_dim=25 alpha=1e-05 lr=0.001 ... mean: 0.53; max: 0.69; took 2.0 secs\n",
      "Running trials for embed_dim=10 hidden_dim=25 alpha=1e-05 lr=0.01 ... mean: 0.76; max: 1.0; took 2.0 secs\n",
      "Running trials for embed_dim=10 hidden_dim=25 alpha=0.0001 lr=0.0001 ... mean: 0.5; max: 0.566; took 2.0 secs\n",
      "Running trials for embed_dim=10 hidden_dim=25 alpha=0.0001 lr=0.001 ... mean: 0.52; max: 0.65; took 2.0 secs\n",
      "Running trials for embed_dim=10 hidden_dim=25 alpha=0.0001 lr=0.01 ... mean: 0.76; max: 0.994; took 2.0 secs\n",
      "Running trials for embed_dim=10 hidden_dim=25 alpha=0.001 lr=0.0001 ... mean: 0.5; max: 0.576; took 2.0 secs\n",
      "Running trials for embed_dim=10 hidden_dim=25 alpha=0.001 lr=0.001 ... mean: 0.54; max: 0.666; took 2.0 secs\n",
      "Running trials for embed_dim=10 hidden_dim=25 alpha=0.001 lr=0.01 ... mean: 0.75; max: 0.996; took 2.0 secs\n",
      "Running trials for embed_dim=10 hidden_dim=50 alpha=1e-05 lr=0.0001 ... mean: 0.5; max: 0.582; took 2.0 secs\n",
      "Running trials for embed_dim=10 hidden_dim=50 alpha=1e-05 lr=0.001 ... mean: 0.57; max: 0.816; took 2.0 secs\n",
      "Running trials for embed_dim=10 hidden_dim=50 alpha=1e-05 lr=0.01 ... mean: 0.79; max: 1.0; took 2.0 secs\n"
     ]
    },
    {
     "name": "stdout",
     "output_type": "stream",
     "text": [
      "Running trials for embed_dim=10 hidden_dim=50 alpha=0.0001 lr=0.0001 ... mean: 0.49; max: 0.55; took 2.0 secs\n",
      "Running trials for embed_dim=10 hidden_dim=50 alpha=0.0001 lr=0.001 ... mean: 0.56; max: 0.806; took 2.0 secs\n",
      "Running trials for embed_dim=10 hidden_dim=50 alpha=0.0001 lr=0.01 ... mean: 0.8; max: 1.0; took 2.0 secs\n",
      "Running trials for embed_dim=10 hidden_dim=50 alpha=0.001 lr=0.0001 ... mean: 0.5; max: 0.556; took 2.0 secs\n",
      "Running trials for embed_dim=10 hidden_dim=50 alpha=0.001 lr=0.001 ... mean: 0.56; max: 0.774; took 2.0 secs\n",
      "Running trials for embed_dim=10 hidden_dim=50 alpha=0.001 lr=0.01 ... mean: 0.8; max: 1.0; took 2.0 secs\n",
      "Running trials for embed_dim=10 hidden_dim=100 alpha=1e-05 lr=0.0001 ... mean: 0.5; max: 0.556; took 3.0 secs\n",
      "Running trials for embed_dim=10 hidden_dim=100 alpha=1e-05 lr=0.001 ... mean: 0.62; max: 0.896; took 3.0 secs\n",
      "Running trials for embed_dim=10 hidden_dim=100 alpha=1e-05 lr=0.01 ... mean: 0.84; max: 1.0; took 3.0 secs\n",
      "Running trials for embed_dim=10 hidden_dim=100 alpha=0.0001 lr=0.0001 ... mean: 0.5; max: 0.544; took 3.0 secs\n",
      "Running trials for embed_dim=10 hidden_dim=100 alpha=0.0001 lr=0.001 ... mean: 0.6; max: 0.864; took 3.0 secs\n",
      "Running trials for embed_dim=10 hidden_dim=100 alpha=0.0001 lr=0.01 ... mean: 0.83; max: 1.0; took 3.0 secs\n",
      "Running trials for embed_dim=10 hidden_dim=100 alpha=0.001 lr=0.0001 ... mean: 0.51; max: 0.56; took 3.0 secs\n",
      "Running trials for embed_dim=10 hidden_dim=100 alpha=0.001 lr=0.001 ... mean: 0.61; max: 0.868; took 3.0 secs\n",
      "Running trials for embed_dim=10 hidden_dim=100 alpha=0.001 lr=0.01 ... mean: 0.82; max: 1.0; took 3.0 secs\n",
      "Running trials for embed_dim=25 hidden_dim=2 alpha=1e-05 lr=0.0001 ... mean: 0.5; max: 0.52; took 2.0 secs\n",
      "Running trials for embed_dim=25 hidden_dim=2 alpha=1e-05 lr=0.001 ... mean: 0.5; max: 0.554; took 2.0 secs\n",
      "Running trials for embed_dim=25 hidden_dim=2 alpha=1e-05 lr=0.01 ... mean: 0.55; max: 0.84; took 2.0 secs\n",
      "Running trials for embed_dim=25 hidden_dim=2 alpha=0.0001 lr=0.0001 ... mean: 0.5; max: 0.538; took 2.0 secs\n",
      "Running trials for embed_dim=25 hidden_dim=2 alpha=0.0001 lr=0.001 ... mean: 0.5; max: 0.522; took 2.0 secs\n",
      "Running trials for embed_dim=25 hidden_dim=2 alpha=0.0001 lr=0.01 ... mean: 0.54; max: 0.89; took 2.0 secs\n",
      "Running trials for embed_dim=25 hidden_dim=2 alpha=0.001 lr=0.0001 ... mean: 0.5; max: 0.556; took 2.0 secs\n",
      "Running trials for embed_dim=25 hidden_dim=2 alpha=0.001 lr=0.001 ... mean: 0.5; max: 0.54; took 2.0 secs\n",
      "Running trials for embed_dim=25 hidden_dim=2 alpha=0.001 lr=0.01 ... mean: 0.53; max: 0.854; took 2.0 secs\n",
      "Running trials for embed_dim=25 hidden_dim=10 alpha=1e-05 lr=0.0001 ... mean: 0.51; max: 0.544; took 2.0 secs\n",
      "Running trials for embed_dim=25 hidden_dim=10 alpha=1e-05 lr=0.001 ... mean: 0.51; max: 0.586; took 2.0 secs\n",
      "Running trials for embed_dim=25 hidden_dim=10 alpha=1e-05 lr=0.01 ... mean: 0.66; max: 0.97; took 2.0 secs\n",
      "Running trials for embed_dim=25 hidden_dim=10 alpha=0.0001 lr=0.0001 ... mean: 0.5; max: 0.542; took 2.0 secs\n",
      "Running trials for embed_dim=25 hidden_dim=10 alpha=0.0001 lr=0.001 ... mean: 0.51; max: 0.592; took 2.0 secs\n",
      "Running trials for embed_dim=25 hidden_dim=10 alpha=0.0001 lr=0.01 ... mean: 0.67; max: 0.972; took 2.0 secs\n",
      "Running trials for embed_dim=25 hidden_dim=10 alpha=0.001 lr=0.0001 ... mean: 0.5; max: 0.546; took 2.0 secs\n",
      "Running trials for embed_dim=25 hidden_dim=10 alpha=0.001 lr=0.001 ... mean: 0.51; max: 0.588; took 2.0 secs\n",
      "Running trials for embed_dim=25 hidden_dim=10 alpha=0.001 lr=0.01 ... mean: 0.67; max: 0.99; took 2.0 secs\n",
      "Running trials for embed_dim=25 hidden_dim=25 alpha=1e-05 lr=0.0001 ... mean: 0.51; max: 0.55; took 2.0 secs\n",
      "Running trials for embed_dim=25 hidden_dim=25 alpha=1e-05 lr=0.001 ... mean: 0.54; max: 0.672; took 2.0 secs\n",
      "Running trials for embed_dim=25 hidden_dim=25 alpha=1e-05 lr=0.01 ... mean: 0.74; max: 1.0; took 2.0 secs\n",
      "Running trials for embed_dim=25 hidden_dim=25 alpha=0.0001 lr=0.0001 ... mean: 0.5; max: 0.56; took 2.0 secs\n",
      "Running trials for embed_dim=25 hidden_dim=25 alpha=0.0001 lr=0.001 ... mean: 0.53; max: 0.656; took 2.0 secs\n",
      "Running trials for embed_dim=25 hidden_dim=25 alpha=0.0001 lr=0.01 ... mean: 0.74; max: 0.998; took 2.0 secs\n",
      "Running trials for embed_dim=25 hidden_dim=25 alpha=0.001 lr=0.0001 ... mean: 0.51; max: 0.546; took 2.0 secs\n",
      "Running trials for embed_dim=25 hidden_dim=25 alpha=0.001 lr=0.001 ... mean: 0.52; max: 0.644; took 2.0 secs\n",
      "Running trials for embed_dim=25 hidden_dim=25 alpha=0.001 lr=0.01 ... mean: 0.73; max: 0.998; took 2.0 secs\n",
      "Running trials for embed_dim=25 hidden_dim=50 alpha=1e-05 lr=0.0001 ... mean: 0.5; max: 0.566; took 3.0 secs\n",
      "Running trials for embed_dim=25 hidden_dim=50 alpha=1e-05 lr=0.001 ... mean: 0.54; max: 0.732; took 3.0 secs\n",
      "Running trials for embed_dim=25 hidden_dim=50 alpha=1e-05 lr=0.01 ... mean: 0.78; max: 1.0; took 3.0 secs\n",
      "Running trials for embed_dim=25 hidden_dim=50 alpha=0.0001 lr=0.0001 ... mean: 0.51; max: 0.564; took 3.0 secs\n",
      "Running trials for embed_dim=25 hidden_dim=50 alpha=0.0001 lr=0.001 ... mean: 0.55; max: 0.716; took 3.0 secs\n",
      "Running trials for embed_dim=25 hidden_dim=50 alpha=0.0001 lr=0.01 ... mean: 0.78; max: 1.0; took 3.0 secs\n",
      "Running trials for embed_dim=25 hidden_dim=50 alpha=0.001 lr=0.0001 ... mean: 0.5; max: 0.562; took 3.0 secs\n",
      "Running trials for embed_dim=25 hidden_dim=50 alpha=0.001 lr=0.001 ... mean: 0.55; max: 0.72; took 3.0 secs\n",
      "Running trials for embed_dim=25 hidden_dim=50 alpha=0.001 lr=0.01 ... mean: 0.78; max: 1.0; took 3.0 secs\n",
      "Running trials for embed_dim=25 hidden_dim=100 alpha=1e-05 lr=0.0001 ... mean: 0.5; max: 0.57; took 3.0 secs\n",
      "Running trials for embed_dim=25 hidden_dim=100 alpha=1e-05 lr=0.001 ... mean: 0.59; max: 0.824; took 3.0 secs\n",
      "Running trials for embed_dim=25 hidden_dim=100 alpha=1e-05 lr=0.01 ... mean: 0.8; max: 1.0; took 3.0 secs\n",
      "Running trials for embed_dim=25 hidden_dim=100 alpha=0.0001 lr=0.0001 ... mean: 0.51; max: 0.556; took 3.0 secs\n",
      "Running trials for embed_dim=25 hidden_dim=100 alpha=0.0001 lr=0.001 ... mean: 0.59; max: 0.794; took 3.0 secs\n",
      "Running trials for embed_dim=25 hidden_dim=100 alpha=0.0001 lr=0.01 ... mean: 0.81; max: 1.0; took 3.0 secs\n",
      "Running trials for embed_dim=25 hidden_dim=100 alpha=0.001 lr=0.0001 ... mean: 0.51; max: 0.588; took 3.0 secs\n",
      "Running trials for embed_dim=25 hidden_dim=100 alpha=0.001 lr=0.001 ... mean: 0.59; max: 0.814; took 3.0 secs\n",
      "Running trials for embed_dim=25 hidden_dim=100 alpha=0.001 lr=0.01 ... mean: 0.81; max: 1.0; took 3.0 secs\n",
      "Running trials for embed_dim=50 hidden_dim=2 alpha=1e-05 lr=0.0001 ... mean: 0.5; max: 0.534; took 3.0 secs\n",
      "Running trials for embed_dim=50 hidden_dim=2 alpha=1e-05 lr=0.001 ... mean: 0.5; max: 0.568; took 3.0 secs\n",
      "Running trials for embed_dim=50 hidden_dim=2 alpha=1e-05 lr=0.01 ... mean: 0.54; max: 0.84; took 3.0 secs\n",
      "Running trials for embed_dim=50 hidden_dim=2 alpha=0.0001 lr=0.0001 ... mean: 0.5; max: 0.542; took 3.0 secs\n",
      "Running trials for embed_dim=50 hidden_dim=2 alpha=0.0001 lr=0.001 ... mean: 0.51; max: 0.584; took 3.0 secs\n",
      "Running trials for embed_dim=50 hidden_dim=2 alpha=0.0001 lr=0.01 ... mean: 0.54; max: 0.892; took 3.0 secs\n",
      "Running trials for embed_dim=50 hidden_dim=2 alpha=0.001 lr=0.0001 ... mean: 0.5; max: 0.538; took 3.0 secs\n",
      "Running trials for embed_dim=50 hidden_dim=2 alpha=0.001 lr=0.001 ... mean: 0.5; max: 0.56; took 3.0 secs\n",
      "Running trials for embed_dim=50 hidden_dim=2 alpha=0.001 lr=0.01 ... mean: 0.53; max: 0.81; took 3.0 secs\n",
      "Running trials for embed_dim=50 hidden_dim=10 alpha=1e-05 lr=0.0001 ... mean: 0.5; max: 0.536; took 3.0 secs\n",
      "Running trials for embed_dim=50 hidden_dim=10 alpha=1e-05 lr=0.001 ... mean: 0.5; max: 0.572; took 3.0 secs\n",
      "Running trials for embed_dim=50 hidden_dim=10 alpha=1e-05 lr=0.01 ... mean: 0.65; max: 0.982; took 3.0 secs\n",
      "Running trials for embed_dim=50 hidden_dim=10 alpha=0.0001 lr=0.0001 ... mean: 0.49; max: 0.542; took 3.0 secs\n",
      "Running trials for embed_dim=50 hidden_dim=10 alpha=0.0001 lr=0.001 ... mean: 0.51; max: 0.572; took 3.0 secs\n",
      "Running trials for embed_dim=50 hidden_dim=10 alpha=0.0001 lr=0.01 ... mean: 0.63; max: 0.984; took 3.0 secs\n"
     ]
    },
    {
     "name": "stdout",
     "output_type": "stream",
     "text": [
      "Running trials for embed_dim=50 hidden_dim=10 alpha=0.001 lr=0.0001 ... mean: 0.49; max: 0.524; took 3.0 secs\n",
      "Running trials for embed_dim=50 hidden_dim=10 alpha=0.001 lr=0.001 ... mean: 0.52; max: 0.6; took 3.0 secs\n",
      "Running trials for embed_dim=50 hidden_dim=10 alpha=0.001 lr=0.01 ... mean: 0.63; max: 0.966; took 3.0 secs\n",
      "Running trials for embed_dim=50 hidden_dim=25 alpha=1e-05 lr=0.0001 ... mean: 0.5; max: 0.566; took 4.0 secs\n",
      "Running trials for embed_dim=50 hidden_dim=25 alpha=1e-05 lr=0.001 ... mean: 0.52; max: 0.65; took 3.0 secs\n",
      "Running trials for embed_dim=50 hidden_dim=25 alpha=1e-05 lr=0.01 ... mean: 0.71; max: 0.99; took 3.0 secs\n",
      "Running trials for embed_dim=50 hidden_dim=25 alpha=0.0001 lr=0.0001 ... mean: 0.51; max: 0.572; took 3.0 secs\n",
      "Running trials for embed_dim=50 hidden_dim=25 alpha=0.0001 lr=0.001 ... mean: 0.53; max: 0.648; took 3.0 secs\n",
      "Running trials for embed_dim=50 hidden_dim=25 alpha=0.0001 lr=0.01 ... mean: 0.7; max: 0.99; took 3.0 secs\n",
      "Running trials for embed_dim=50 hidden_dim=25 alpha=0.001 lr=0.0001 ... "
     ]
    },
    {
     "ename": "KeyboardInterrupt",
     "evalue": "",
     "output_type": "error",
     "traceback": [
      "\u001b[0;31m---------------------------------------------------------------------------\u001b[0m",
      "\u001b[0;31mKeyboardInterrupt\u001b[0m                         Traceback (most recent call last)",
      "\u001b[0;32m<ipython-input-4-181cc70413c6>\u001b[0m in \u001b[0;36m<module>\u001b[0;34m\u001b[0m\n\u001b[1;32m      3\u001b[0m     **params)\n\u001b[1;32m      4\u001b[0m \u001b[0;34m\u001b[0m\u001b[0m\n\u001b[0;32m----> 5\u001b[0;31m \u001b[0mdf\u001b[0m \u001b[0;34m=\u001b[0m \u001b[0mexperiment\u001b[0m\u001b[0;34m.\u001b[0m\u001b[0mrun\u001b[0m\u001b[0;34m(\u001b[0m\u001b[0;34m)\u001b[0m\u001b[0;34m\u001b[0m\u001b[0;34m\u001b[0m\u001b[0m\n\u001b[0m\u001b[1;32m      6\u001b[0m \u001b[0;34m\u001b[0m\u001b[0m\n\u001b[1;32m      7\u001b[0m \u001b[0mexperiment\u001b[0m\u001b[0;34m.\u001b[0m\u001b[0mto_csv\u001b[0m\u001b[0;34m(\u001b[0m\u001b[0;34m\"equality.csv\"\u001b[0m\u001b[0;34m)\u001b[0m\u001b[0;34m\u001b[0m\u001b[0;34m\u001b[0m\u001b[0m\n",
      "\u001b[0;32m~/2020F/equality/equality_experiment.py\u001b[0m in \u001b[0;36mrun\u001b[0;34m(self)\u001b[0m\n\u001b[1;32m     62\u001b[0m \u001b[0;34m\u001b[0m\u001b[0m\n\u001b[1;32m     63\u001b[0m                 \u001b[0mX_train\u001b[0m\u001b[0;34m,\u001b[0m \u001b[0mX_test\u001b[0m\u001b[0;34m,\u001b[0m \u001b[0my_train\u001b[0m\u001b[0;34m,\u001b[0m \u001b[0my_test\u001b[0m\u001b[0;34m,\u001b[0m \u001b[0mtest_dataset\u001b[0m \u001b[0;34m=\u001b[0m\u001b[0;31m \u001b[0m\u001b[0;31m\\\u001b[0m\u001b[0;34m\u001b[0m\u001b[0;34m\u001b[0m\u001b[0m\n\u001b[0;32m---> 64\u001b[0;31m                   \u001b[0mself\u001b[0m\u001b[0;34m.\u001b[0m\u001b[0mget_new_train_and_test_sets\u001b[0m\u001b[0;34m(\u001b[0m\u001b[0membed_dim\u001b[0m\u001b[0;34m)\u001b[0m\u001b[0;34m\u001b[0m\u001b[0;34m\u001b[0m\u001b[0m\n\u001b[0m\u001b[1;32m     65\u001b[0m \u001b[0;34m\u001b[0m\u001b[0m\n\u001b[1;32m     66\u001b[0m                 \u001b[0;31m# Record the result with no training if the model allows it:\u001b[0m\u001b[0;34m\u001b[0m\u001b[0;34m\u001b[0m\u001b[0;34m\u001b[0m\u001b[0m\n",
      "\u001b[0;32m~/2020F/equality/equality_experiment.py\u001b[0m in \u001b[0;36mget_new_train_and_test_sets\u001b[0;34m(self, embed_dim)\u001b[0m\n\u001b[1;32m    158\u001b[0m             \u001b[0mn_pos\u001b[0m\u001b[0;34m=\u001b[0m\u001b[0mself\u001b[0m\u001b[0;34m.\u001b[0m\u001b[0mclass_size\u001b[0m\u001b[0;34m,\u001b[0m\u001b[0;34m\u001b[0m\u001b[0;34m\u001b[0m\u001b[0m\n\u001b[1;32m    159\u001b[0m             n_neg=self.class_size)\n\u001b[0;32m--> 160\u001b[0;31m         \u001b[0mX_train\u001b[0m\u001b[0;34m,\u001b[0m \u001b[0my_train\u001b[0m \u001b[0;34m=\u001b[0m \u001b[0mtrain_dataset\u001b[0m\u001b[0;34m.\u001b[0m\u001b[0mcreate\u001b[0m\u001b[0;34m(\u001b[0m\u001b[0;34m)\u001b[0m\u001b[0;34m\u001b[0m\u001b[0;34m\u001b[0m\u001b[0m\n\u001b[0m\u001b[1;32m    161\u001b[0m \u001b[0;34m\u001b[0m\u001b[0m\n\u001b[1;32m    162\u001b[0m         test_dataset = self.dataset_class(\n",
      "\u001b[0;32m~/2020F/equality/datasets.py\u001b[0m in \u001b[0;36mcreate\u001b[0;34m(self)\u001b[0m\n\u001b[1;32m     69\u001b[0m         \u001b[0mself\u001b[0m\u001b[0;34m.\u001b[0m\u001b[0mdata\u001b[0m \u001b[0;34m=\u001b[0m \u001b[0;34m[\u001b[0m\u001b[0;34m]\u001b[0m\u001b[0;34m\u001b[0m\u001b[0;34m\u001b[0m\u001b[0m\n\u001b[1;32m     70\u001b[0m         \u001b[0mself\u001b[0m\u001b[0;34m.\u001b[0m\u001b[0mdata\u001b[0m \u001b[0;34m+=\u001b[0m \u001b[0mself\u001b[0m\u001b[0;34m.\u001b[0m\u001b[0m_create_pos\u001b[0m\u001b[0;34m(\u001b[0m\u001b[0;34m)\u001b[0m\u001b[0;34m\u001b[0m\u001b[0;34m\u001b[0m\u001b[0m\n\u001b[0;32m---> 71\u001b[0;31m         \u001b[0mself\u001b[0m\u001b[0;34m.\u001b[0m\u001b[0mdata\u001b[0m \u001b[0;34m+=\u001b[0m \u001b[0mself\u001b[0m\u001b[0;34m.\u001b[0m\u001b[0m_create_neg\u001b[0m\u001b[0;34m(\u001b[0m\u001b[0;34m)\u001b[0m\u001b[0;34m\u001b[0m\u001b[0;34m\u001b[0m\u001b[0m\n\u001b[0m\u001b[1;32m     72\u001b[0m         \u001b[0mrandom\u001b[0m\u001b[0;34m.\u001b[0m\u001b[0mshuffle\u001b[0m\u001b[0;34m(\u001b[0m\u001b[0mself\u001b[0m\u001b[0;34m.\u001b[0m\u001b[0mdata\u001b[0m\u001b[0;34m)\u001b[0m\u001b[0;34m\u001b[0m\u001b[0;34m\u001b[0m\u001b[0m\n\u001b[1;32m     73\u001b[0m         \u001b[0mdata\u001b[0m \u001b[0;34m=\u001b[0m \u001b[0mself\u001b[0m\u001b[0;34m.\u001b[0m\u001b[0mdata\u001b[0m\u001b[0;34m.\u001b[0m\u001b[0mcopy\u001b[0m\u001b[0;34m(\u001b[0m\u001b[0;34m)\u001b[0m\u001b[0;34m\u001b[0m\u001b[0;34m\u001b[0m\u001b[0m\n",
      "\u001b[0;32m~/2020F/equality/datasets.py\u001b[0m in \u001b[0;36m_create_neg\u001b[0;34m(self)\u001b[0m\n\u001b[1;32m    100\u001b[0m             \u001b[0mvec2\u001b[0m \u001b[0;34m=\u001b[0m \u001b[0mvec1\u001b[0m\u001b[0;34m.\u001b[0m\u001b[0mcopy\u001b[0m\u001b[0;34m(\u001b[0m\u001b[0;34m)\u001b[0m\u001b[0;34m\u001b[0m\u001b[0;34m\u001b[0m\u001b[0m\n\u001b[1;32m    101\u001b[0m             \u001b[0;32mwhile\u001b[0m \u001b[0mnp\u001b[0m\u001b[0;34m.\u001b[0m\u001b[0marray_equal\u001b[0m\u001b[0;34m(\u001b[0m\u001b[0mvec1\u001b[0m\u001b[0;34m,\u001b[0m \u001b[0mvec2\u001b[0m\u001b[0;34m)\u001b[0m\u001b[0;34m:\u001b[0m\u001b[0;34m\u001b[0m\u001b[0;34m\u001b[0m\u001b[0m\n\u001b[0;32m--> 102\u001b[0;31m                 \u001b[0mvec2\u001b[0m \u001b[0;34m=\u001b[0m \u001b[0mrandvec\u001b[0m\u001b[0;34m(\u001b[0m\u001b[0mself\u001b[0m\u001b[0;34m.\u001b[0m\u001b[0membed_dim\u001b[0m\u001b[0;34m)\u001b[0m\u001b[0;34m\u001b[0m\u001b[0;34m\u001b[0m\u001b[0m\n\u001b[0m\u001b[1;32m    103\u001b[0m             \u001b[0mrep\u001b[0m \u001b[0;34m=\u001b[0m \u001b[0;34m(\u001b[0m\u001b[0mvec1\u001b[0m\u001b[0;34m,\u001b[0m \u001b[0mvec2\u001b[0m\u001b[0;34m)\u001b[0m\u001b[0;34m\u001b[0m\u001b[0;34m\u001b[0m\u001b[0m\n\u001b[1;32m    104\u001b[0m             \u001b[0mdata\u001b[0m\u001b[0;34m.\u001b[0m\u001b[0mappend\u001b[0m\u001b[0;34m(\u001b[0m\u001b[0;34m(\u001b[0m\u001b[0mrep\u001b[0m\u001b[0;34m,\u001b[0m \u001b[0mself\u001b[0m\u001b[0;34m.\u001b[0m\u001b[0mNEG_LABEL\u001b[0m\u001b[0;34m)\u001b[0m\u001b[0;34m)\u001b[0m\u001b[0;34m\u001b[0m\u001b[0;34m\u001b[0m\u001b[0m\n",
      "\u001b[0;32m~/2020F/equality/utils.py\u001b[0m in \u001b[0;36mrandvec\u001b[0;34m(embed_dim, lower, upper)\u001b[0m\n\u001b[1;32m     22\u001b[0m \u001b[0;34m\u001b[0m\u001b[0m\n\u001b[1;32m     23\u001b[0m \u001b[0;32mdef\u001b[0m \u001b[0mrandvec\u001b[0m\u001b[0;34m(\u001b[0m\u001b[0membed_dim\u001b[0m\u001b[0;34m=\u001b[0m\u001b[0;36m50\u001b[0m\u001b[0;34m,\u001b[0m \u001b[0mlower\u001b[0m\u001b[0;34m=\u001b[0m\u001b[0;34m-\u001b[0m\u001b[0;36m0.5\u001b[0m\u001b[0;34m,\u001b[0m \u001b[0mupper\u001b[0m\u001b[0;34m=\u001b[0m\u001b[0;36m0.5\u001b[0m\u001b[0;34m)\u001b[0m\u001b[0;34m:\u001b[0m\u001b[0;34m\u001b[0m\u001b[0;34m\u001b[0m\u001b[0m\n\u001b[0;32m---> 24\u001b[0;31m     \u001b[0;32mreturn\u001b[0m \u001b[0mnp\u001b[0m\u001b[0;34m.\u001b[0m\u001b[0marray\u001b[0m\u001b[0;34m(\u001b[0m\u001b[0;34m[\u001b[0m\u001b[0mrandom\u001b[0m\u001b[0;34m.\u001b[0m\u001b[0muniform\u001b[0m\u001b[0;34m(\u001b[0m\u001b[0mlower\u001b[0m\u001b[0;34m,\u001b[0m \u001b[0mupper\u001b[0m\u001b[0;34m)\u001b[0m \u001b[0;32mfor\u001b[0m \u001b[0mi\u001b[0m \u001b[0;32min\u001b[0m \u001b[0mrange\u001b[0m\u001b[0;34m(\u001b[0m\u001b[0membed_dim\u001b[0m\u001b[0;34m)\u001b[0m\u001b[0;34m]\u001b[0m\u001b[0;34m)\u001b[0m\u001b[0;34m\u001b[0m\u001b[0;34m\u001b[0m\u001b[0m\n\u001b[0m\u001b[1;32m     25\u001b[0m \u001b[0;34m\u001b[0m\u001b[0m\n\u001b[1;32m     26\u001b[0m \u001b[0;34m\u001b[0m\u001b[0m\n",
      "\u001b[0;32m~/2020F/equality/utils.py\u001b[0m in \u001b[0;36m<listcomp>\u001b[0;34m(.0)\u001b[0m\n\u001b[1;32m     22\u001b[0m \u001b[0;34m\u001b[0m\u001b[0m\n\u001b[1;32m     23\u001b[0m \u001b[0;32mdef\u001b[0m \u001b[0mrandvec\u001b[0m\u001b[0;34m(\u001b[0m\u001b[0membed_dim\u001b[0m\u001b[0;34m=\u001b[0m\u001b[0;36m50\u001b[0m\u001b[0;34m,\u001b[0m \u001b[0mlower\u001b[0m\u001b[0;34m=\u001b[0m\u001b[0;34m-\u001b[0m\u001b[0;36m0.5\u001b[0m\u001b[0;34m,\u001b[0m \u001b[0mupper\u001b[0m\u001b[0;34m=\u001b[0m\u001b[0;36m0.5\u001b[0m\u001b[0;34m)\u001b[0m\u001b[0;34m:\u001b[0m\u001b[0;34m\u001b[0m\u001b[0;34m\u001b[0m\u001b[0m\n\u001b[0;32m---> 24\u001b[0;31m     \u001b[0;32mreturn\u001b[0m \u001b[0mnp\u001b[0m\u001b[0;34m.\u001b[0m\u001b[0marray\u001b[0m\u001b[0;34m(\u001b[0m\u001b[0;34m[\u001b[0m\u001b[0mrandom\u001b[0m\u001b[0;34m.\u001b[0m\u001b[0muniform\u001b[0m\u001b[0;34m(\u001b[0m\u001b[0mlower\u001b[0m\u001b[0;34m,\u001b[0m \u001b[0mupper\u001b[0m\u001b[0;34m)\u001b[0m \u001b[0;32mfor\u001b[0m \u001b[0mi\u001b[0m \u001b[0;32min\u001b[0m \u001b[0mrange\u001b[0m\u001b[0;34m(\u001b[0m\u001b[0membed_dim\u001b[0m\u001b[0;34m)\u001b[0m\u001b[0;34m]\u001b[0m\u001b[0;34m)\u001b[0m\u001b[0;34m\u001b[0m\u001b[0;34m\u001b[0m\u001b[0m\n\u001b[0m\u001b[1;32m     25\u001b[0m \u001b[0;34m\u001b[0m\u001b[0m\n\u001b[1;32m     26\u001b[0m \u001b[0;34m\u001b[0m\u001b[0m\n",
      "\u001b[0;31mKeyboardInterrupt\u001b[0m: "
     ]
    }
   ],
   "source": [
    "experiment = EqualityExperiment(    \n",
    "    dataset_class=EqualityDataset,\n",
    "    **params)\n",
    "\n",
    "df = experiment.run()\n",
    "\n",
    "experiment.to_csv(\"equality.csv\")"
   ]
  },
  {
   "cell_type": "markdown",
   "metadata": {},
   "source": [
    "## With pretraining"
   ]
  },
  {
   "cell_type": "code",
   "execution_count": null,
   "metadata": {},
   "outputs": [],
   "source": [
    "def with_pretraining(n_tasks=3, max_iter=10):\n",
    "    experiment = PretrainedEqualityExperiment(\n",
    "        n_tasks,\n",
    "        max_iter,\n",
    "        dataset_class=TrainedEqualityDataset,\n",
    "        **params)\n",
    "    df = experiment.run()\n",
    "    experiment.to_csv(f\"equality-pretrain-{n_tasks}tasks.csv\")    "
   ]
  },
  {
   "cell_type": "code",
   "execution_count": null,
   "metadata": {},
   "outputs": [],
   "source": [
    "with_pretraining(n_tasks=3)"
   ]
  },
  {
   "cell_type": "code",
   "execution_count": null,
   "metadata": {},
   "outputs": [],
   "source": [
    "with_pretraining(n_tasks=5)"
   ]
  },
  {
   "cell_type": "code",
   "execution_count": null,
   "metadata": {},
   "outputs": [],
   "source": [
    "with_pretraining(n_tasks=10)"
   ]
  }
 ],
 "metadata": {
  "kernelspec": {
   "display_name": "Python 3",
   "language": "python",
   "name": "python3"
  },
  "language_info": {
   "codemirror_mode": {
    "name": "ipython",
    "version": 3
   },
   "file_extension": ".py",
   "mimetype": "text/x-python",
   "name": "python",
   "nbconvert_exporter": "python",
   "pygments_lexer": "ipython3",
   "version": "3.8.3"
  }
 },
 "nbformat": 4,
 "nbformat_minor": 2
}
