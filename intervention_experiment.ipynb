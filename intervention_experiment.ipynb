{
 "cells": [
  {
   "cell_type": "code",
   "execution_count": 1,
   "metadata": {},
   "outputs": [],
   "source": [
    "%load_ext autoreload\n",
    "%autoreload 2"
   ]
  },
  {
   "cell_type": "code",
   "execution_count": 2,
   "metadata": {},
   "outputs": [],
   "source": [
    "from datasets import EqualityDataset\n",
    "from equality_experiment import EqualityExperiment\n",
    "\n",
    "\n",
    "params = dict(\n",
    "    embed_dims=[10],\n",
    "    hidden_dims=[100],\n",
    "    alphas=[0.001],\n",
    "    learning_rates=[0.01],\n",
    "    n_trials=2,\n",
    "    train_sizes=list(range(104, 2005, 100))\n",
    ")\n",
    "\n",
    "experiment = EqualityExperiment(    \n",
    "    dataset_class=EqualityDataset,\n",
    "    **params)"
   ]
  },
  {
   "cell_type": "code",
   "execution_count": 3,
   "metadata": {},
   "outputs": [
    {
     "name": "stdout",
     "output_type": "stream",
     "text": [
      "Using the first item in grid: embed_dim=10 hidden_dim=100 alpha=0.001 lr=0.01 ...\n",
      "creating dataset\n",
      "creating dataset\n",
      "shape of X_train: (2004, 20)\n",
      "shape of X_test: (500, 20)\n",
      "Accuracy: 1.000\n",
      "number of layers: 2\n",
      "shape of weights in first layer: (20, 100)\n",
      "shape of weights in second layer: (100, 1)\n",
      "shape of bias in first layer: (100,)\n",
      "shape of bias in second layer: (1,)\n"
     ]
    }
   ],
   "source": [
    "experiment.run_once()"
   ]
  },
  {
   "cell_type": "code",
   "execution_count": 2,
   "metadata": {},
   "outputs": [],
   "source": [
    "from torch_equality import *\n",
    "\n",
    "params = dict(\n",
    "    embed_dims=[10],\n",
    "    hidden_dims=[100],\n",
    "    alphas=[0.001],\n",
    "    learning_rates=[0.01],\n",
    "    n_trials=2,\n",
    "    train_sizes=list(range(1004, 2005, 1000))\n",
    ")\n",
    "\n",
    "experiment = TorchEqualityExperiment(dataset_class=TorchEqualityDataset, **params)"
   ]
  },
  {
   "cell_type": "code",
   "execution_count": 3,
   "metadata": {},
   "outputs": [
    {
     "name": "stdout",
     "output_type": "stream",
     "text": [
      "Grid size: 1 * 2; 2 experiments\n",
      "Running trials for embed_dim=10 hidden_dim=100 alpha=0.001 lr=0.01 ... mean: 0.83; max: 0.994; took 6.0 secs\n"
     ]
    },
    {
     "data": {
      "text/html": [
       "<div>\n",
       "<style scoped>\n",
       "    .dataframe tbody tr th:only-of-type {\n",
       "        vertical-align: middle;\n",
       "    }\n",
       "\n",
       "    .dataframe tbody tr th {\n",
       "        vertical-align: top;\n",
       "    }\n",
       "\n",
       "    .dataframe thead th {\n",
       "        text-align: right;\n",
       "    }\n",
       "</style>\n",
       "<table border=\"1\" class=\"dataframe\">\n",
       "  <thead>\n",
       "    <tr style=\"text-align: right;\">\n",
       "      <th></th>\n",
       "      <th>trial</th>\n",
       "      <th>train_size</th>\n",
       "      <th>embed_dim</th>\n",
       "      <th>hidden_dim</th>\n",
       "      <th>alpha</th>\n",
       "      <th>learning_rate</th>\n",
       "      <th>accuracy</th>\n",
       "      <th>batch_pos</th>\n",
       "      <th>batch_neg</th>\n",
       "    </tr>\n",
       "  </thead>\n",
       "  <tbody>\n",
       "    <tr>\n",
       "      <th>0</th>\n",
       "      <td>1</td>\n",
       "      <td>0</td>\n",
       "      <td>10</td>\n",
       "      <td>100</td>\n",
       "      <td>0.001</td>\n",
       "      <td>0.01</td>\n",
       "      <td>0.462</td>\n",
       "      <td>0</td>\n",
       "      <td>0</td>\n",
       "    </tr>\n",
       "    <tr>\n",
       "      <th>1</th>\n",
       "      <td>1</td>\n",
       "      <td>1004</td>\n",
       "      <td>10</td>\n",
       "      <td>100</td>\n",
       "      <td>0.001</td>\n",
       "      <td>0.01</td>\n",
       "      <td>0.984</td>\n",
       "      <td>505</td>\n",
       "      <td>499</td>\n",
       "    </tr>\n",
       "    <tr>\n",
       "      <th>2</th>\n",
       "      <td>1</td>\n",
       "      <td>2004</td>\n",
       "      <td>10</td>\n",
       "      <td>100</td>\n",
       "      <td>0.001</td>\n",
       "      <td>0.01</td>\n",
       "      <td>0.994</td>\n",
       "      <td>1002</td>\n",
       "      <td>1002</td>\n",
       "    </tr>\n",
       "    <tr>\n",
       "      <th>3</th>\n",
       "      <td>2</td>\n",
       "      <td>0</td>\n",
       "      <td>10</td>\n",
       "      <td>100</td>\n",
       "      <td>0.001</td>\n",
       "      <td>0.01</td>\n",
       "      <td>0.554</td>\n",
       "      <td>0</td>\n",
       "      <td>0</td>\n",
       "    </tr>\n",
       "    <tr>\n",
       "      <th>4</th>\n",
       "      <td>2</td>\n",
       "      <td>1004</td>\n",
       "      <td>10</td>\n",
       "      <td>100</td>\n",
       "      <td>0.001</td>\n",
       "      <td>0.01</td>\n",
       "      <td>0.992</td>\n",
       "      <td>489</td>\n",
       "      <td>515</td>\n",
       "    </tr>\n",
       "    <tr>\n",
       "      <th>5</th>\n",
       "      <td>2</td>\n",
       "      <td>2004</td>\n",
       "      <td>10</td>\n",
       "      <td>100</td>\n",
       "      <td>0.001</td>\n",
       "      <td>0.01</td>\n",
       "      <td>0.992</td>\n",
       "      <td>1002</td>\n",
       "      <td>1002</td>\n",
       "    </tr>\n",
       "  </tbody>\n",
       "</table>\n",
       "</div>"
      ],
      "text/plain": [
       "   trial  train_size  embed_dim  hidden_dim  alpha  learning_rate  accuracy  \\\n",
       "0      1           0         10         100  0.001           0.01     0.462   \n",
       "1      1        1004         10         100  0.001           0.01     0.984   \n",
       "2      1        2004         10         100  0.001           0.01     0.994   \n",
       "3      2           0         10         100  0.001           0.01     0.554   \n",
       "4      2        1004         10         100  0.001           0.01     0.992   \n",
       "5      2        2004         10         100  0.001           0.01     0.992   \n",
       "\n",
       "   batch_pos  batch_neg  \n",
       "0          0          0  \n",
       "1        505        499  \n",
       "2       1002       1002  \n",
       "3          0          0  \n",
       "4        489        515  \n",
       "5       1002       1002  "
      ]
     },
     "execution_count": 3,
     "metadata": {},
     "output_type": "execute_result"
    }
   ],
   "source": [
    "experiment.run()"
   ]
  },
  {
   "cell_type": "code",
   "execution_count": 3,
   "metadata": {},
   "outputs": [],
   "source": [
    "embed_dim = 10\n",
    "max_epochs = 100\n",
    "hidden_dim = 100\n",
    "train_size = 2000\n",
    "test_size = 500\n",
    "alpha = 0.001\n",
    "lr = 0.01\n",
    "\n",
    "train_dataset = TorchEqualityDataset(embed_dim=embed_dim, n_pos=train_size//2, n_neg=train_size//2)\n",
    "test_dataset = TorchEqualityDataset(embed_dim=embed_dim, n_pos=test_size//2, n_neg=test_size//2)\n",
    "\n",
    "train_dataset.test_disjoint(test_dataset)\n",
    "model = TorchEqualityModel(max_epochs=max_epochs,\n",
    "                           input_size=embed_dim*2,\n",
    "                           batch_size=1000,\n",
    "                           hidden_layer_size=hidden_dim,\n",
    "                           alpha=alpha,\n",
    "                           lr=lr,\n",
    "                           gpu=True)\n",
    "\n",
    "model.fit(train_dataset)\n"
   ]
  },
  {
   "cell_type": "code",
   "execution_count": 5,
   "metadata": {},
   "outputs": [
    {
     "name": "stdout",
     "output_type": "stream",
     "text": [
      "[ 0.39201654 -0.36785673  0.44480057 -0.29828635  0.09587019  0.21976774\n",
      " -0.21790579  0.47005808  0.13934583 -0.39761212 -0.14932567  0.43585482\n",
      "  0.16314534 -0.20044318  0.34226107 -0.28727885 -0.36907869  0.08117762\n",
      "  0.23866461 -0.261373  ] 0\n",
      "[ 0.05293649 -0.0405006  -0.00809856  0.17018614 -0.06961887 -0.10660474\n",
      "  0.27717561  0.24940513 -0.19529317 -0.4902961   0.05293649 -0.0405006\n",
      " -0.00809856  0.17018614 -0.06961887 -0.10660474  0.27717561  0.24940513\n",
      " -0.19529317 -0.4902961 ] 1\n"
     ]
    }
   ],
   "source": [
    "print(test_dataset.X[0], test_dataset.y[0])\n",
    "print(test_dataset.X[3], test_dataset.y[3])"
   ]
  },
  {
   "cell_type": "code",
   "execution_count": 21,
   "metadata": {},
   "outputs": [],
   "source": [
    "from intervention_interface import *\n",
    "\n",
    "intervention = TorchEqualityIntervention(model)"
   ]
  },
  {
   "cell_type": "code",
   "execution_count": 22,
   "metadata": {},
   "outputs": [
    {
     "name": "stdout",
     "output_type": "stream",
     "text": [
      "[1]\n",
      "[0]\n"
     ]
    }
   ],
   "source": [
    "res_3 = intervention.run(torch.tensor(test_dataset.X[3]))\n",
    "print(res_3)\n",
    "res_0 = intervention.run(torch.tensor(test_dataset.X[0]))\n",
    "print(res_0)"
   ]
  },
  {
   "cell_type": "code",
   "execution_count": 25,
   "metadata": {},
   "outputs": [
    {
     "name": "stdout",
     "output_type": "stream",
     "text": [
      "tensor([0.0000e+00, 0.0000e+00, 9.8200e-04, 0.0000e+00, 0.0000e+00, 7.3625e-02,\n",
      "        2.1076e-04, 0.0000e+00, 7.7771e-04, 0.0000e+00, 8.6266e-04, 5.7836e-04,\n",
      "        0.0000e+00, 1.1789e-03, 0.0000e+00, 0.0000e+00, 5.5889e-04, 8.8341e-03,\n",
      "        0.0000e+00, 0.0000e+00, 4.0467e-04, 1.1502e-04, 0.0000e+00, 0.0000e+00,\n",
      "        1.1389e-04, 2.2425e-01, 0.0000e+00, 2.1191e-01, 0.0000e+00, 3.5294e-01,\n",
      "        3.4319e-02, 0.0000e+00, 1.1725e-01, 6.4332e-01, 1.8010e-01, 0.0000e+00,\n",
      "        0.0000e+00, 4.9733e-05, 4.8089e-02, 0.0000e+00, 0.0000e+00, 2.0517e-01,\n",
      "        0.0000e+00, 0.0000e+00, 1.3748e-01, 2.7138e-01, 1.9672e-04, 0.0000e+00,\n",
      "        1.2978e-01, 0.0000e+00, 0.0000e+00, 7.5374e-05, 0.0000e+00, 2.9675e-01,\n",
      "        2.5111e-04, 1.0445e-01, 0.0000e+00, 6.2687e-03, 1.2862e-01, 0.0000e+00,\n",
      "        0.0000e+00, 0.0000e+00, 1.0108e-03, 0.0000e+00, 0.0000e+00, 1.4319e-01,\n",
      "        2.1146e-01, 1.8739e-01, 0.0000e+00, 1.6255e-03, 0.0000e+00, 0.0000e+00,\n",
      "        2.8291e-01, 0.0000e+00, 8.7655e-02, 0.0000e+00, 0.0000e+00, 0.0000e+00,\n",
      "        2.0791e-01, 1.6524e-01, 0.0000e+00, 0.0000e+00, 1.6396e-01, 0.0000e+00,\n",
      "        0.0000e+00, 2.5801e-01, 0.0000e+00, 1.3046e-01, 2.5567e-04, 0.0000e+00,\n",
      "        9.8709e-02, 1.0423e-01, 5.1000e-02, 5.1749e-02, 5.0744e-02, 0.0000e+00,\n",
      "        1.4403e-01, 0.0000e+00, 0.0000e+00, 1.7159e-01], device='cuda:0')\n",
      "[1] [1]\n"
     ]
    }
   ],
   "source": [
    "res_3 = intervention.run(torch.tensor(test_dataset.X[3]))\n",
    "print(intervention.get_from_cache(\"hidden_vec\"))\n",
    "res_intervention = intervention.fix_and_run(\"hidden_vec\", torch.tensor(test_dataset.X[0]))\n",
    "print(res_3, res_intervention)"
   ]
  },
  {
   "cell_type": "code",
   "execution_count": null,
   "metadata": {},
   "outputs": [],
   "source": []
  }
 ],
 "metadata": {
  "kernelspec": {
   "display_name": "Python 3",
   "language": "python",
   "name": "python3"
  },
  "language_info": {
   "codemirror_mode": {
    "name": "ipython",
    "version": 3
   },
   "file_extension": ".py",
   "mimetype": "text/x-python",
   "name": "python",
   "nbconvert_exporter": "python",
   "pygments_lexer": "ipython3",
   "version": "3.8.3"
  }
 },
 "nbformat": 4,
 "nbformat_minor": 4
}
